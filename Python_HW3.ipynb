{
  "nbformat": 4,
  "nbformat_minor": 0,
  "metadata": {
    "colab": {
      "provenance": []
    },
    "kernelspec": {
      "name": "python3",
      "display_name": "Python 3"
    },
    "language_info": {
      "name": "python"
    }
  },
  "cells": [
    {
      "cell_type": "markdown",
      "source": [
        "## Name : Surya Narayanan Nadhamuni Suresh\n",
        "## UTA ID : 1001877873"
      ],
      "metadata": {
        "id": "cFGgN96P9vnS"
      }
    },
    {
      "cell_type": "markdown",
      "source": [
        "## Python Homework 3"
      ],
      "metadata": {
        "id": "3J_Du9v594-x"
      }
    },
    {
      "cell_type": "code",
      "source": [
        "#import statements\n",
        "import random\n",
        "import re\n",
        "import nltk\n",
        "from nltk.corpus import stopwords\n",
        "from nltk.tokenize import word_tokenize\n",
        "import collections\n",
        "from collections import OrderedDict\n",
        "import math\n",
        "# nltk.download('stopwords')\n",
        "# nltk.download('punkt')\n",
        "\n"
      ],
      "metadata": {
        "id": "nWYqTuzR9LE0"
      },
      "execution_count": 36,
      "outputs": []
    },
    {
      "cell_type": "code",
      "source": [
        "#references\n",
        "#https://stackoverflow.com/questions/2668312/shuffle-string-in-python\n",
        "#https://bobbyhadz.com/blog/python-get-random-key-value-from-dictionary\n",
        "#https://www.geeksforgeeks.org/python-collections-module/#counters\n",
        "#https://stackoverflow.com/questions/23142251/is-there-a-way-to-remove-all-characters-except-letters-in-a-string-in-python\n",
        "#https://stackabuse.com/removing-stop-words-from-strings-in-python/#usingpythonsgensimlibrary\n",
        "#https://www.geeksforgeeks.org/removing-stop-words-nltk-python/\n",
        "#https://www.programiz.com/python-programming/nested-dictionary\n",
        "#https://www.geeksforgeeks.org/python-sort-python-dictionaries-by-key-or-value/\n",
        "#https://stackoverflow.com/questions/12555443/squaring-all-elements-in-a-list\n",
        "#https://www.geeksforgeeks.org/python-multiply-two-list/\n",
        "#https://www.freecodecamp.org/news/sort-dictionary-by-value-in-python/\n",
        "#https://www.geeksforgeeks.org/python-get-the-first-key-in-dictionary/\n",
        "\n",
        "\n",
        "\n",
        "\n"
      ],
      "metadata": {
        "id": "DOn5kJ2g9sMF"
      },
      "execution_count": null,
      "outputs": []
    },
    {
      "cell_type": "markdown",
      "source": [
        "##Qno : 1"
      ],
      "metadata": {
        "id": "C22RRndMtdai"
      }
    },
    {
      "cell_type": "code",
      "execution_count": null,
      "metadata": {
        "id": "T_iMP2FutY2g"
      },
      "outputs": [],
      "source": [
        "file_name = input('Enter the name of the \"words and thier meanings\" file : ')\n",
        "#choice=\"Y\"\n",
        "word_dic={}\n",
        "scrambled={}\n",
        "#opening the text file to read the content\n",
        "with open(file_name,'r') as f:\n",
        "  content=f.readlines()\n",
        "#splitting the words and adding to the word dictionary\n",
        "for i in content:\n",
        "  i=i.strip(\"\\\"\\n\")\n",
        "  temp=(i.split(\",\"))\n",
        "  word_dic[temp[0]]=temp[1]\n",
        "  scrambled[temp[0]]=''.join(random.sample(temp[0],len(temp[0])))\n",
        "choice = input(\"Do you want to play: \").upper()\n",
        "while choice == \"Y\":\n",
        "  flag=0\n",
        "  attempts=1\n",
        "  ch=0\n",
        "  curr_k, curr_val = random.choice(list(scrambled.items()))\n",
        "  print('Unscramble the following letters to form a word. Type “?” for the meaning of the unscrambled word: ',curr_val)\n",
        "  print(\"YOU ARE ALLOWED ONLY 6 ATTEMPTS TO GET THE CORRECT ANSWER\")\n",
        "\n",
        "  while ch==0 and attempts<=6:\n",
        "    print(\"Enter the answer [or ? for the meaning]: \")\n",
        "    ans=input()\n",
        "    if ans==\"?\" and flag==0:\n",
        "      print(\"The word means: \",word_dic[curr_k])\n",
        "      flag=1\n",
        "    elif ans==\"?\" and flag==1:\n",
        "      print(\"You have been given the meaning before. Next time you ask for the meaning it will count as an attempt! \")\n",
        "      flag=2\n",
        "    elif ans==\"?\" and flag==2:\n",
        "      print(\"You have been given the meaning before, This is counted as one attempt!!\")\n",
        "      attempts+=1\n",
        "    else:\n",
        "      if ans==curr_k:\n",
        "        print(\"You got it! \")\n",
        "        ch=1\n",
        "      else:\n",
        "        if attempts==6:\n",
        "          print(\"Wrong, you have exceeded the number of attempts. Bye! \")\n",
        "        else:\n",
        "          print(\"Wrong, try again \")\n",
        "        attempts+=1\n",
        "    \n",
        "\n",
        "  choice = input(\"Do you want to play: \").upper()\n",
        "print(\"Goodbye!\")\n"
      ]
    },
    {
      "cell_type": "markdown",
      "source": [
        "##Qno : 2"
      ],
      "metadata": {
        "id": "MOCl6NiQBj5R"
      }
    },
    {
      "cell_type": "code",
      "source": [
        "#Function for finding the cosine similarity between two list\n",
        "def cosine(l1,l2):\n",
        "  #numerator calculation\n",
        "  temp= [x*y for x,y in zip(l1,l2)]\n",
        "  numerator=sum(temp)\n",
        "  #denominator calculation\n",
        "  l1_sq=[i ** 2 for i in l1]\n",
        "  l2_sq=[i ** 2 for i in l2]\n",
        "  l1_sum=sum(l1_sq)\n",
        "  l2_sum=sum(l2_sq)\n",
        "  denominator = math.sqrt(l1_sum) * math.sqrt(l2_sum)\n",
        "\n",
        "  return (numerator/denominator)\n",
        "\n"
      ],
      "metadata": {
        "id": "u7wvEMzGdspR"
      },
      "execution_count": 39,
      "outputs": []
    },
    {
      "cell_type": "code",
      "source": [
        "file_name = input('Give the name of the poetry file:  ')\n",
        "poem_dic={}\n",
        "poem_copy={}\n",
        "stop_words = set(stopwords.words('english'))\n",
        "with open(file_name,'r') as f:\n",
        "  content=f.readlines()\n",
        "#splitting the words and adding to the word dictionary\n",
        "for i in content:\n",
        "  i=i.strip(\"\\\"\\n\")\n",
        "  temp=(i.split(\":\"))\n",
        "  poem_dic[temp[0]]=temp[1]\n",
        "#print(poem_dic)\n",
        "poem_copy=poem_dic.copy()\n",
        "\n",
        "#removing the special characters and stop words from the user input\n",
        "user_inp = input(\"Input your poem delineated by “/”  for  each  line: \")\n",
        "user_inp = re.sub(r'[^A-Za-z]', ' ', user_inp)\n",
        "user_inp=word_tokenize(user_inp)\n",
        "filtered = [w for w in user_inp if not w.lower() in stop_words]\n",
        "user_inp=filtered\n",
        "user_inp=collections.Counter(user_inp)\n",
        "user_inp_copy=user_inp.copy()\n",
        "#print(user_inp)\n",
        "\n",
        "\n",
        "##we need to remove stop words from the poem for better comparision between poems\n",
        "\n",
        "#Cleaning the content of the poems in the text file\n",
        "for k,v in poem_copy.items():\n",
        "  poem_copy[k]=re.sub(r'[^A-Za-z]', ' ', v)\n",
        "  text = word_tokenize(poem_copy[k])\n",
        "  filtered = [w for w in text if not w.lower() in stop_words]\n",
        "  poem_copy[k]=filtered\n",
        "  #grouping and counting the number of words\n",
        "  poem_copy[k]=collections.Counter(poem_copy[k])\n",
        "\n",
        "# for k,v in poem_copy.items():\n",
        "#   print(k,v)\n",
        "cos={}\n",
        "l1=[]\n",
        "l2=[]\n",
        "#filling the missing words and calculating the cosine similarity\n",
        "for k,v in poem_copy.items():\n",
        "  for key,value in v.items():\n",
        "    if key not in user_inp_copy:\n",
        "      user_inp_copy[key]=0\n",
        "\n",
        "  for key,value in user_inp_copy.items():\n",
        "    if key not in v:\n",
        "      poem_copy[k][key]=0\n",
        "  \n",
        "  poem_copy[k]=dict(sorted(poem_copy[k].items(),key=lambda x:x[0]))\n",
        "  user_inp_copy=dict(sorted(user_inp_copy.items(),key=lambda x:x[0]))\n",
        "  l1=list(user_inp_copy.values())\n",
        "  l2=list(poem_copy[k].values())\n",
        "\n",
        "  #time to call the cosine functionality\n",
        "  val = cosine(l1,l2)\n",
        "  cos[k]=val\n",
        "\n",
        "  user_inp_copy=user_inp.copy()\n",
        "      \n",
        "#sorting the cosine dictionary by values\n",
        "cos=dict(sorted(cos.items(),key=lambda x:x[1],reverse=True))\n",
        "#print(cos)\n",
        "similar = str(list(cos.keys())[0])\n",
        "#print(similar)\n",
        "print(\"Cosine distance results: \")\n",
        "for k,v in cos.items():\n",
        "  print(k,\" : \",v)\n",
        "print(\"The closest poem is: \")\n",
        "print(similar,\" : \",poem_dic[similar])\n"
      ],
      "metadata": {
        "colab": {
          "base_uri": "https://localhost:8080/"
        },
        "id": "FPlDb6ypB5mG",
        "outputId": "df8d88c3-c9bb-4289-f538-d0674c9b50e9"
      },
      "execution_count": 50,
      "outputs": [
        {
          "output_type": "stream",
          "name": "stdout",
          "text": [
            "Give the name of the poetry file:  poetry_lines.txt\n",
            "Input your poem delineated by “/”  for  each  line: Shall I compare thee to a summer's day?/Thou art more lovely and more temperate/Rough winds do shake the darling buds of May\n",
            "Cosine distance results: \n",
            "William Shakespeare  :  0.8807710121010883\n",
            "William Wordsworth  :  0.0\n",
            "Robert Frost  :  0.0\n",
            "The closest poem is: \n",
            "William Shakespeare  :   Shall I compare thee to a summer's day?/Thou art more lovely and more temperate/Rough winds do shake the darling buds of May,/And summer's lease hath all too short a date\n"
          ]
        }
      ]
    },
    {
      "cell_type": "markdown",
      "source": [
        "##Qno : 3"
      ],
      "metadata": {
        "id": "pXjv-D-_L0IW"
      }
    },
    {
      "cell_type": "code",
      "source": [],
      "metadata": {
        "id": "xpxwcKP7L1ml"
      },
      "execution_count": null,
      "outputs": []
    }
  ]
}